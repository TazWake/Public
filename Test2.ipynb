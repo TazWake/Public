{
 "cells": [
  {
   "cell_type": "markdown",
   "id": "25b6e3cb-e30a-4508-88e2-2406d1e33d5f",
   "metadata": {},
   "source": [
    "# Netflow Analysis Tool\n",
    "\n",
    "This notebook will analyse netflow files in an identified folder location and return the top 10 talkers.\n",
    "\n",
    "## Requirements\n",
    "1. WSL 2.0 installed with a Linux Distro preconfigured.\n",
    "2. `nfdump` installed on the Linux Distro.\n",
    "3. `pandas` installed on the system running the notebook.\n",
    "   \n",
    "## Workflow\n",
    "- Ensure the folder contains decompressed neflow files with an nfcap filename.\n",
    "- Update the notebook to point to the correct folder."
   ]
  },
  {
   "cell_type": "code",
   "execution_count": 1,
   "id": "f50f05b9-2a94-428f-97d8-491a6c05f4d0",
   "metadata": {},
   "outputs": [],
   "source": [
    "#Step 1: Set up\n",
    "import pandas as pd\n",
    "import os\n",
    "import subprocess\n",
    "import io\n",
    "\n",
    "# Path to the directory containing NetFlow files\n",
    "netflow_directory = './Downloads/netflow/'"
   ]
  },
  {
   "cell_type": "code",
   "execution_count": 2,
   "id": "59550bb1-7641-4242-9ebb-f4851740e095",
   "metadata": {},
   "outputs": [],
   "source": [
    "def convert_path_to_wsl(windows_path):\n",
    "    return subprocess.check_output(['wsl', 'wslpath', '-a', windows_path]).decode('utf-8').strip()"
   ]
  },
  {
   "cell_type": "code",
   "execution_count": 3,
   "id": "d10c1fd5-009a-4f90-9927-8b2172d8ab27",
   "metadata": {},
   "outputs": [],
   "source": [
    "# Step 2: Function to process NetFlow files and extract traffic data\n",
    "def process_netflow_file(file_path):\n",
    "    wsl_file_path = convert_path_to_wsl(file_path)\n",
    "    # Use nfdump via WSL to convert NetFlow file to CSV\n",
    "    csv_output = subprocess.check_output(['wsl', 'nfdump', '-r', wsl_file_path, '-o', 'csv']).decode('utf-8')\n",
    "    \n",
    "    #print(csv_output[:1000])  # Print the first 1000 characters of the CSV output for debugging\n",
    "\n",
    "    # Read the CSV output into a pandas DataFrame\n",
    "    data = pd.read_csv(io.StringIO(csv_output), sep=',', skiprows=1, engine='python')\n",
    "    # print(data.head())  # Debugging line\n",
    "    # print(data.columns)  # Debugging line\n",
    "    data.columns = data.columns.str.strip()\n",
    "    return data"
   ]
  },
  {
   "cell_type": "code",
   "execution_count": null,
   "id": "50f7b1fe-9c59-4a4f-b4f9-4734e14c8b12",
   "metadata": {},
   "outputs": [],
   "source": [
    "# Step 3: Process all NetFlow files in the directory\n",
    "all_data = []\n",
    "\n",
    "for filename in os.listdir(netflow_directory):\n",
    "    if filename.startswith('nfcapd'):\n",
    "        file_path = os.path.join(netflow_directory, filename)\n",
    "        try:\n",
    "            data = process_netflow_file(file_path)\n",
    "            all_data.append(data)\n",
    "        except Exception as e:\n",
    "            print(f\"Error processing file {filename}: {e}\")"
   ]
  },
  {
   "cell_type": "code",
   "execution_count": 7,
   "id": "5261cf66-ec96-4c96-a712-4ba62bbed764",
   "metadata": {},
   "outputs": [],
   "source": [
    "# Combine all data into a single DataFrame\n",
    "if all_data:\n",
    "    # Get the intersection of all columns\n",
    "    common_columns = list(set.intersection(*[set(df.columns) for df in all_data]))\n",
    "    # Standardize all DataFrames to have the same columns\n",
    "    all_data = [df[common_columns] for df in all_data]\n",
    "    \n",
    "    # Combine all data into a single DataFrame\n",
    "    combined_data = pd.concat(all_data, ignore_index=True)\n",
    "else:\n",
    "    combined_data = pd.DataFrame()"
   ]
  },
  {
   "cell_type": "code",
   "execution_count": 8,
   "id": "afbf4312-5bb1-41fe-b682-fdcf297a94fa",
   "metadata": {},
   "outputs": [],
   "source": [
    "# Print column names to identify the exact names\n",
    "# print(combined_data.columns) # debugging step"
   ]
  },
  {
   "cell_type": "code",
   "execution_count": null,
   "id": "dbe31931-da9b-4324-8e7e-d72b17ad8a64",
   "metadata": {
    "scrolled": true
   },
   "outputs": [],
   "source": [
    "# Step 4: Analyze traffic data\n",
    "# Clean column names if necessary (remove spaces, special characters, etc.)\n",
    "# data.columns = data.columns.str.strip() #if needed\n",
    "\n",
    "# Assuming the column names are 'sa' (Source Address) and 'ibyt' (In Bytes)\n",
    "combined_data['Src IP Addr'] = combined_data['sa']\n",
    "\n",
    "# Sum the In Byte column grouped by Src IP Addr\n",
    "traffic_summary = combined_data.groupby('Src IP Addr')['ibyt'].sum().reset_index()\n",
    "\n",
    "# Sort the summary by the In Byte column in descending order\n",
    "traffic_summary = traffic_summary.sort_values(by='ibyt', ascending=False) "
   ]
  },
  {
   "cell_type": "code",
   "execution_count": null,
   "id": "6fcafe36-70cb-4d24-b1a6-89001244a11b",
   "metadata": {},
   "outputs": [],
   "source": [
    "# Display the top endpoints by traffic\n",
    "traffic_summary.head(10)"
   ]
  }
 ],
 "metadata": {
  "kernelspec": {
   "display_name": "Python 3 (ipykernel)",
   "language": "python",
   "name": "python3"
  },
  "language_info": {
   "codemirror_mode": {
    "name": "ipython",
    "version": 3
   },
   "file_extension": ".py",
   "mimetype": "text/x-python",
   "name": "python",
   "nbconvert_exporter": "python",
   "pygments_lexer": "ipython3",
   "version": "3.12.4"
  }
 },
 "nbformat": 4,
 "nbformat_minor": 5
}
