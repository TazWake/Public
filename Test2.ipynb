{
 "cells": [
  {
   "cell_type": "markdown",
   "id": "25b6e3cb-e30a-4508-88e2-2406d1e33d5f",
   "metadata": {},
   "source": [
    "# Netflow Analysis Tool"
   ]
  },
  {
   "cell_type": "code",
   "execution_count": 1,
   "id": "f50f05b9-2a94-428f-97d8-491a6c05f4d0",
   "metadata": {},
   "outputs": [],
   "source": [
    "#Step 1: Set up\n",
    "import pandas as pd\n",
    "import os\n",
    "import subprocess\n",
    "import io\n",
    "\n",
    "# Path to the directory containing NetFlow files\n",
    "netflow_directory = './Downloads/netflow/'"
   ]
  },
  {
   "cell_type": "code",
   "execution_count": 2,
   "id": "59550bb1-7641-4242-9ebb-f4851740e095",
   "metadata": {},
   "outputs": [],
   "source": [
    "def convert_path_to_wsl(windows_path):\n",
    "    return subprocess.check_output(['wsl', 'wslpath', '-a', windows_path]).decode('utf-8').strip()"
   ]
  },
  {
   "cell_type": "code",
   "execution_count": 3,
   "id": "d10c1fd5-009a-4f90-9927-8b2172d8ab27",
   "metadata": {},
   "outputs": [],
   "source": [
    "# Step 2: Function to process NetFlow files and extract traffic data\n",
    "def process_netflow_file(file_path):\n",
    "    wsl_file_path = convert_path_to_wsl(file_path)\n",
    "    # Use nfdump via WSL to convert NetFlow file to CSV\n",
    "    csv_output = subprocess.check_output(['wsl', 'nfdump', '-r', wsl_file_path, '-o', 'csv']).decode('utf-8')\n",
    "    \n",
    "    #print(csv_output[:1000])  # Print the first 1000 characters of the CSV output for debugging\n",
    "\n",
    "    # Read the CSV output into a pandas DataFrame\n",
    "    data = pd.read_csv(io.StringIO(csv_output), sep=',', skiprows=1, engine='python')\n",
    "    # print(data.head())  # Debugging line\n",
    "    # print(data.columns)  # Debugging line\n",
    "    data.columns = data.columns.str.strip()\n",
    "    return data"
   ]
  },
  {
   "cell_type": "code",
   "execution_count": null,
   "id": "50f7b1fe-9c59-4a4f-b4f9-4734e14c8b12",
   "metadata": {},
   "outputs": [],
   "source": [
    "# Step 3: Process all NetFlow files in the directory\n",
    "all_data = []\n",
    "\n",
    "for filename in os.listdir(netflow_directory):\n",
    "    if filename.startswith('nfcapd'):\n",
    "        file_path = os.path.join(netflow_directory, filename)\n",
    "        try:\n",
    "            data = process_netflow_file(file_path)\n",
    "            all_data.append(data)\n",
    "        except Exception as e:\n",
    "            print(f\"Error processing file {filename}: {e}\")"
   ]
  },
  {
   "cell_type": "code",
   "execution_count": 7,
   "id": "5261cf66-ec96-4c96-a712-4ba62bbed764",
   "metadata": {},
   "outputs": [],
   "source": [
    "# Combine all data into a single DataFrame\n",
    "if all_data:\n",
    "    # Get the intersection of all columns\n",
    "    common_columns = list(set.intersection(*[set(df.columns) for df in all_data]))\n",
    "    # Standardize all DataFrames to have the same columns\n",
    "    all_data = [df[common_columns] for df in all_data]\n",
    "    \n",
    "    # Combine all data into a single DataFrame\n",
    "    combined_data = pd.concat(all_data, ignore_index=True)\n",
    "else:\n",
    "    combined_data = pd.DataFrame()"
   ]
  },
  {
   "cell_type": "code",
   "execution_count": 8,
   "id": "afbf4312-5bb1-41fe-b682-fdcf297a94fa",
   "metadata": {},
   "outputs": [],
   "source": [
    "# Print column names to identify the exact names\n",
    "# print(combined_data.columns) # debugging step"
   ]
  },
  {
   "cell_type": "code",
   "execution_count": 9,
   "id": "dbe31931-da9b-4324-8e7e-d72b17ad8a64",
   "metadata": {
    "scrolled": true
   },
   "outputs": [
    {
     "ename": "KeyError",
     "evalue": "'sa'",
     "output_type": "error",
     "traceback": [
      "\u001b[1;31m---------------------------------------------------------------------------\u001b[0m",
      "\u001b[1;31mKeyError\u001b[0m                                  Traceback (most recent call last)",
      "File \u001b[1;32m~\\AppData\\Local\\Programs\\Python\\Python312\\Lib\\site-packages\\pandas\\core\\indexes\\base.py:3805\u001b[0m, in \u001b[0;36mIndex.get_loc\u001b[1;34m(self, key)\u001b[0m\n\u001b[0;32m   3804\u001b[0m \u001b[38;5;28;01mtry\u001b[39;00m:\n\u001b[1;32m-> 3805\u001b[0m     \u001b[38;5;28;01mreturn\u001b[39;00m \u001b[38;5;28;43mself\u001b[39;49m\u001b[38;5;241;43m.\u001b[39;49m\u001b[43m_engine\u001b[49m\u001b[38;5;241;43m.\u001b[39;49m\u001b[43mget_loc\u001b[49m\u001b[43m(\u001b[49m\u001b[43mcasted_key\u001b[49m\u001b[43m)\u001b[49m\n\u001b[0;32m   3806\u001b[0m \u001b[38;5;28;01mexcept\u001b[39;00m \u001b[38;5;167;01mKeyError\u001b[39;00m \u001b[38;5;28;01mas\u001b[39;00m err:\n",
      "File \u001b[1;32mindex.pyx:167\u001b[0m, in \u001b[0;36mpandas._libs.index.IndexEngine.get_loc\u001b[1;34m()\u001b[0m\n",
      "File \u001b[1;32mindex.pyx:196\u001b[0m, in \u001b[0;36mpandas._libs.index.IndexEngine.get_loc\u001b[1;34m()\u001b[0m\n",
      "File \u001b[1;32mpandas\\\\_libs\\\\hashtable_class_helper.pxi:7081\u001b[0m, in \u001b[0;36mpandas._libs.hashtable.PyObjectHashTable.get_item\u001b[1;34m()\u001b[0m\n",
      "File \u001b[1;32mpandas\\\\_libs\\\\hashtable_class_helper.pxi:7089\u001b[0m, in \u001b[0;36mpandas._libs.hashtable.PyObjectHashTable.get_item\u001b[1;34m()\u001b[0m\n",
      "\u001b[1;31mKeyError\u001b[0m: 'sa'",
      "\nThe above exception was the direct cause of the following exception:\n",
      "\u001b[1;31mKeyError\u001b[0m                                  Traceback (most recent call last)",
      "Cell \u001b[1;32mIn[9], line 6\u001b[0m\n\u001b[0;32m      1\u001b[0m \u001b[38;5;66;03m# Step 4: Analyze traffic data\u001b[39;00m\n\u001b[0;32m      2\u001b[0m \u001b[38;5;66;03m# Clean column names if necessary (remove spaces, special characters, etc.)\u001b[39;00m\n\u001b[0;32m      3\u001b[0m \u001b[38;5;66;03m# data.columns = data.columns.str.strip() #if needed\u001b[39;00m\n\u001b[0;32m      4\u001b[0m \n\u001b[0;32m      5\u001b[0m \u001b[38;5;66;03m# Assuming the column names are 'sa' (Source Address) and 'ibyt' (In Bytes)\u001b[39;00m\n\u001b[1;32m----> 6\u001b[0m combined_data[\u001b[38;5;124m'\u001b[39m\u001b[38;5;124mSrc IP Addr\u001b[39m\u001b[38;5;124m'\u001b[39m] \u001b[38;5;241m=\u001b[39m \u001b[43mcombined_data\u001b[49m\u001b[43m[\u001b[49m\u001b[38;5;124;43m'\u001b[39;49m\u001b[38;5;124;43msa\u001b[39;49m\u001b[38;5;124;43m'\u001b[39;49m\u001b[43m]\u001b[49m\n\u001b[0;32m      8\u001b[0m \u001b[38;5;66;03m# Sum the In Byte column grouped by Src IP Addr\u001b[39;00m\n\u001b[0;32m      9\u001b[0m traffic_summary \u001b[38;5;241m=\u001b[39m combined_data\u001b[38;5;241m.\u001b[39mgroupby(\u001b[38;5;124m'\u001b[39m\u001b[38;5;124mSrc IP Addr\u001b[39m\u001b[38;5;124m'\u001b[39m)[\u001b[38;5;124m'\u001b[39m\u001b[38;5;124mibyt\u001b[39m\u001b[38;5;124m'\u001b[39m]\u001b[38;5;241m.\u001b[39msum()\u001b[38;5;241m.\u001b[39mreset_index()\n",
      "File \u001b[1;32m~\\AppData\\Local\\Programs\\Python\\Python312\\Lib\\site-packages\\pandas\\core\\frame.py:4102\u001b[0m, in \u001b[0;36mDataFrame.__getitem__\u001b[1;34m(self, key)\u001b[0m\n\u001b[0;32m   4100\u001b[0m \u001b[38;5;28;01mif\u001b[39;00m \u001b[38;5;28mself\u001b[39m\u001b[38;5;241m.\u001b[39mcolumns\u001b[38;5;241m.\u001b[39mnlevels \u001b[38;5;241m>\u001b[39m \u001b[38;5;241m1\u001b[39m:\n\u001b[0;32m   4101\u001b[0m     \u001b[38;5;28;01mreturn\u001b[39;00m \u001b[38;5;28mself\u001b[39m\u001b[38;5;241m.\u001b[39m_getitem_multilevel(key)\n\u001b[1;32m-> 4102\u001b[0m indexer \u001b[38;5;241m=\u001b[39m \u001b[38;5;28;43mself\u001b[39;49m\u001b[38;5;241;43m.\u001b[39;49m\u001b[43mcolumns\u001b[49m\u001b[38;5;241;43m.\u001b[39;49m\u001b[43mget_loc\u001b[49m\u001b[43m(\u001b[49m\u001b[43mkey\u001b[49m\u001b[43m)\u001b[49m\n\u001b[0;32m   4103\u001b[0m \u001b[38;5;28;01mif\u001b[39;00m is_integer(indexer):\n\u001b[0;32m   4104\u001b[0m     indexer \u001b[38;5;241m=\u001b[39m [indexer]\n",
      "File \u001b[1;32m~\\AppData\\Local\\Programs\\Python\\Python312\\Lib\\site-packages\\pandas\\core\\indexes\\base.py:3812\u001b[0m, in \u001b[0;36mIndex.get_loc\u001b[1;34m(self, key)\u001b[0m\n\u001b[0;32m   3807\u001b[0m     \u001b[38;5;28;01mif\u001b[39;00m \u001b[38;5;28misinstance\u001b[39m(casted_key, \u001b[38;5;28mslice\u001b[39m) \u001b[38;5;129;01mor\u001b[39;00m (\n\u001b[0;32m   3808\u001b[0m         \u001b[38;5;28misinstance\u001b[39m(casted_key, abc\u001b[38;5;241m.\u001b[39mIterable)\n\u001b[0;32m   3809\u001b[0m         \u001b[38;5;129;01mand\u001b[39;00m \u001b[38;5;28many\u001b[39m(\u001b[38;5;28misinstance\u001b[39m(x, \u001b[38;5;28mslice\u001b[39m) \u001b[38;5;28;01mfor\u001b[39;00m x \u001b[38;5;129;01min\u001b[39;00m casted_key)\n\u001b[0;32m   3810\u001b[0m     ):\n\u001b[0;32m   3811\u001b[0m         \u001b[38;5;28;01mraise\u001b[39;00m InvalidIndexError(key)\n\u001b[1;32m-> 3812\u001b[0m     \u001b[38;5;28;01mraise\u001b[39;00m \u001b[38;5;167;01mKeyError\u001b[39;00m(key) \u001b[38;5;28;01mfrom\u001b[39;00m \u001b[38;5;21;01merr\u001b[39;00m\n\u001b[0;32m   3813\u001b[0m \u001b[38;5;28;01mexcept\u001b[39;00m \u001b[38;5;167;01mTypeError\u001b[39;00m:\n\u001b[0;32m   3814\u001b[0m     \u001b[38;5;66;03m# If we have a listlike key, _check_indexing_error will raise\u001b[39;00m\n\u001b[0;32m   3815\u001b[0m     \u001b[38;5;66;03m#  InvalidIndexError. Otherwise we fall through and re-raise\u001b[39;00m\n\u001b[0;32m   3816\u001b[0m     \u001b[38;5;66;03m#  the TypeError.\u001b[39;00m\n\u001b[0;32m   3817\u001b[0m     \u001b[38;5;28mself\u001b[39m\u001b[38;5;241m.\u001b[39m_check_indexing_error(key)\n",
      "\u001b[1;31mKeyError\u001b[0m: 'sa'"
     ]
    }
   ],
   "source": [
    "# Step 4: Analyze traffic data\n",
    "# Clean column names if necessary (remove spaces, special characters, etc.)\n",
    "# data.columns = data.columns.str.strip() #if needed\n",
    "\n",
    "# Assuming the column names are 'sa' (Source Address) and 'ibyt' (In Bytes)\n",
    "combined_data['Src IP Addr'] = combined_data['sa']\n",
    "\n",
    "# Sum the In Byte column grouped by Src IP Addr\n",
    "traffic_summary = combined_data.groupby('Src IP Addr')['ibyt'].sum().reset_index()\n",
    "\n",
    "# Sort the summary by the In Byte column in descending order\n",
    "traffic_summary = traffic_summary.sort_values(by='ibyt', ascending=False)"
   ]
  },
  {
   "cell_type": "code",
   "execution_count": null,
   "id": "6fcafe36-70cb-4d24-b1a6-89001244a11b",
   "metadata": {},
   "outputs": [],
   "source": [
    "# Display the top endpoints by traffic\n",
    "traffic_summary.head(10)"
   ]
  },
  {
   "cell_type": "code",
   "execution_count": null,
   "id": "2d990780-a2cc-42f4-b502-75daf745fa8a",
   "metadata": {},
   "outputs": [],
   "source": []
  }
 ],
 "metadata": {
  "kernelspec": {
   "display_name": "Python 3 (ipykernel)",
   "language": "python",
   "name": "python3"
  },
  "language_info": {
   "codemirror_mode": {
    "name": "ipython",
    "version": 3
   },
   "file_extension": ".py",
   "mimetype": "text/x-python",
   "name": "python",
   "nbconvert_exporter": "python",
   "pygments_lexer": "ipython3",
   "version": "3.12.4"
  }
 },
 "nbformat": 4,
 "nbformat_minor": 5
}
